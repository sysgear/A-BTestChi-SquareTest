{
  "nbformat": 4,
  "nbformat_minor": 0,
  "metadata": {
    "colab": {
      "name": "unit 1 Project.ipynb",
      "provenance": [],
      "collapsed_sections": []
    },
    "kernelspec": {
      "name": "python3",
      "display_name": "Python 3"
    },
    "language_info": {
      "name": "python"
    }
  },
  "cells": [
    {
      "cell_type": "code",
      "metadata": {
        "id": "CRs_M4FTvziy"
      },
      "source": [
        ""
      ],
      "execution_count": null,
      "outputs": []
    },
    {
      "cell_type": "markdown",
      "metadata": {
        "id": "2DZU3ODSCf9z"
      },
      "source": [
        "# **Chi-Square Test with Cookie Cats, the Mobile Game**"
      ]
    },
    {
      "cell_type": "markdown",
      "metadata": {
        "id": "VKvgDvJqCn9h"
      },
      "source": [
        "# **Project Description**\n",
        "\n",
        "Cookie Cats is a hugely popular mobile puzzle game developed by Tactile Entertainment. It's a classic \"connect three\" style puzzle game where the player must connect tiles of the same color in order to clear the board and win the level. It also features singing cats. We're not kidding!\n",
        "\n",
        "As players progress through the game they will encounter gates that force them to wait some time before they can progress or make an in-app purchase. In this project, we will analyze the result of an A/B test where the first gate in Cookie Cats was moved from level 30 to level 40. In particular, we will analyze the impact on player retention.\n",
        "\n",
        "The dataset is from 90,189 players that installed the game while the AB-test was running. When a player installed the game, that player was randomly assigned to either of the versions: gate_30 or gate_40. For the A/B testing, the control group is gate_30 and the Experiment group is gate_40, test group.\n",
        "\n",
        "# Task\n",
        "Perform A/B test, between two categorical varibles, under the verison column, gate_30 (the control group) and gate_40 (the Experiment group). Have insight of dataset and handle outliers if any. To determine, whether moving the gate from level 30 to level 40 is worth of doing, and does it not harm the retention rate. \n",
        "\n",
        "Assuming the puzzled piece from the marketing department requested from the data analyst: which level,  30 or 40, is more appropriate to set the gate forcing players to wait and watch advertisment or in-app purchase, without impact on rention rate?\n",
        "\n",
        "Two A/B tests: one on retention 1, and the other on retention 7\n",
        "\n",
        "\n",
        "Null Hypothesis:\n",
        "\n",
        "\n",
        "Ho: There is no change of relationship in retention between gate_30 (the control group) and gate_40 (the Experiment group)\n",
        "\n",
        "Alternative Hypothesis:\n",
        "\n",
        "\n",
        "Ha: There is change of relationship in retention between gate_30 (the control group) and gate_40 (the Experiment group)\n",
        "\n",
        "Did the player return to the game, and play 1 day after installaion?\n",
        "\n",
        "Did the player return to the game, and play 7 days after installaion?\n",
        "\n",
        "\n",
        "\n",
        "source of information: https://learn.datacamp.com/projects/184\n",
        "\n"
      ]
    },
    {
      "cell_type": "markdown",
      "metadata": {
        "id": "clxeOhN0SXqL"
      },
      "source": [
        "# Video demo, the Cookie Cats game, YouTube:\n",
        "\n",
        "https://youtu.be/LLVD72FuRlw"
      ]
    },
    {
      "cell_type": "markdown",
      "metadata": {
        "id": "OGk8cHv0GcQw"
      },
      "source": [
        "The **variables** are:</p>\n",
        "**userid** - a unique number of each player. \n",
        "\n",
        "**version** - whether the player was put in the control group (gate_30 - a gate at level 30) or the test group (gate_40 - a gate at level 40).\n",
        "\n",
        "**sum_gamerounds** - the number of game rounds played by the player during the first week after installation\n",
        "\n",
        "**retention_1** - did the player return, and play 1 day after installaion? True or False\n",
        "\n",
        "**retention_7** - did the player return, and play 7 days after installaion? True or False"
      ]
    },
    {
      "cell_type": "markdown",
      "metadata": {
        "id": "g5zkfRlrIMR4"
      },
      "source": [
        "# **1. Loading raw data & EDA**\n"
      ]
    },
    {
      "cell_type": "code",
      "metadata": {
        "colab": {
          "base_uri": "https://localhost:8080/",
          "height": 204
        },
        "id": "6GhEAaG_wAwu",
        "outputId": "f017e42d-01d1-4eff-feda-32446c8b3ba4"
      },
      "source": [
        "# Load dataset; actions to confirm upload completion and check for missing data, missing value, or NaN,\n",
        "# as the following:\n",
        "\n",
        "import pandas as pd\n",
        "import numpy as np\n",
        "\n",
        "url_data = 'cookie_cats.csv'\n",
        "\n",
        "df = pd.read_csv(url_data)\n",
        "\n",
        "df.head()"
      ],
      "execution_count": null,
      "outputs": [
        {
          "output_type": "execute_result",
          "data": {
            "text/html": [
              "<div>\n",
              "<style scoped>\n",
              "    .dataframe tbody tr th:only-of-type {\n",
              "        vertical-align: middle;\n",
              "    }\n",
              "\n",
              "    .dataframe tbody tr th {\n",
              "        vertical-align: top;\n",
              "    }\n",
              "\n",
              "    .dataframe thead th {\n",
              "        text-align: right;\n",
              "    }\n",
              "</style>\n",
              "<table border=\"1\" class=\"dataframe\">\n",
              "  <thead>\n",
              "    <tr style=\"text-align: right;\">\n",
              "      <th></th>\n",
              "      <th>userid</th>\n",
              "      <th>version</th>\n",
              "      <th>sum_gamerounds</th>\n",
              "      <th>retention_1</th>\n",
              "      <th>retention_7</th>\n",
              "    </tr>\n",
              "  </thead>\n",
              "  <tbody>\n",
              "    <tr>\n",
              "      <th>0</th>\n",
              "      <td>116</td>\n",
              "      <td>gate_30</td>\n",
              "      <td>3</td>\n",
              "      <td>False</td>\n",
              "      <td>False</td>\n",
              "    </tr>\n",
              "    <tr>\n",
              "      <th>1</th>\n",
              "      <td>337</td>\n",
              "      <td>gate_30</td>\n",
              "      <td>38</td>\n",
              "      <td>True</td>\n",
              "      <td>False</td>\n",
              "    </tr>\n",
              "    <tr>\n",
              "      <th>2</th>\n",
              "      <td>377</td>\n",
              "      <td>gate_40</td>\n",
              "      <td>165</td>\n",
              "      <td>True</td>\n",
              "      <td>False</td>\n",
              "    </tr>\n",
              "    <tr>\n",
              "      <th>3</th>\n",
              "      <td>483</td>\n",
              "      <td>gate_40</td>\n",
              "      <td>1</td>\n",
              "      <td>False</td>\n",
              "      <td>False</td>\n",
              "    </tr>\n",
              "    <tr>\n",
              "      <th>4</th>\n",
              "      <td>488</td>\n",
              "      <td>gate_40</td>\n",
              "      <td>179</td>\n",
              "      <td>True</td>\n",
              "      <td>True</td>\n",
              "    </tr>\n",
              "  </tbody>\n",
              "</table>\n",
              "</div>"
            ],
            "text/plain": [
              "   userid  version  sum_gamerounds  retention_1  retention_7\n",
              "0     116  gate_30               3        False        False\n",
              "1     337  gate_30              38         True        False\n",
              "2     377  gate_40             165         True        False\n",
              "3     483  gate_40               1        False        False\n",
              "4     488  gate_40             179         True         True"
            ]
          },
          "metadata": {
            "tags": []
          },
          "execution_count": 3
        }
      ]
    },
    {
      "cell_type": "code",
      "metadata": {
        "colab": {
          "base_uri": "https://localhost:8080/"
        },
        "id": "G4q6MfUlDFr5",
        "outputId": "1be605ab-7516-427a-b5b4-b8bde5dfa36b"
      },
      "source": [
        "# Dobule check upload completion\n",
        "\n",
        "df.shape"
      ],
      "execution_count": null,
      "outputs": [
        {
          "output_type": "execute_result",
          "data": {
            "text/plain": [
              "(90189, 5)"
            ]
          },
          "metadata": {
            "tags": []
          },
          "execution_count": 4
        }
      ]
    },
    {
      "cell_type": "code",
      "metadata": {
        "colab": {
          "base_uri": "https://localhost:8080/"
        },
        "id": "VCTEKqnXeugq",
        "outputId": "9f63fdba-9e15-4738-851e-09f8cfbf723c"
      },
      "source": [
        "# CHECK missing data, missing value, or NaN\n",
        "# The dataset information\n",
        "\n",
        "df.info()"
      ],
      "execution_count": null,
      "outputs": [
        {
          "output_type": "stream",
          "text": [
            "<class 'pandas.core.frame.DataFrame'>\n",
            "RangeIndex: 90189 entries, 0 to 90188\n",
            "Data columns (total 5 columns):\n",
            " #   Column          Non-Null Count  Dtype \n",
            "---  ------          --------------  ----- \n",
            " 0   userid          90189 non-null  int64 \n",
            " 1   version         90189 non-null  object\n",
            " 2   sum_gamerounds  90189 non-null  int64 \n",
            " 3   retention_1     90189 non-null  bool  \n",
            " 4   retention_7     90189 non-null  bool  \n",
            "dtypes: bool(2), int64(2), object(1)\n",
            "memory usage: 2.2+ MB\n"
          ],
          "name": "stdout"
        }
      ]
    },
    {
      "cell_type": "code",
      "metadata": {
        "colab": {
          "base_uri": "https://localhost:8080/"
        },
        "id": "K_EzURorJyFN",
        "outputId": "9ca1c543-e4e7-4223-b054-85fdb0847e4d"
      },
      "source": [
        "# Check if there is duplicated users in the control group (gate_30) and the Experiment group (gate_40), test group.\n",
        "# By checking the number of unique value under the userid column, as long as the total users and total different users are the same, there is no duplicated users.\n",
        "\n",
        "print(\"Total users:\", df['userid'].count())\n",
        "print(\"Total different users':\", df['userid'].nunique())"
      ],
      "execution_count": null,
      "outputs": [
        {
          "output_type": "stream",
          "text": [
            "Total users: 90189\n",
            "Total different users': 90189\n"
          ],
          "name": "stdout"
        }
      ]
    },
    {
      "cell_type": "code",
      "metadata": {
        "colab": {
          "base_uri": "https://localhost:8080/"
        },
        "id": "LwEJbAmCMcnl",
        "outputId": "cbff82ac-f6b5-4bf3-cb9f-bc2f3bc4214a"
      },
      "source": [
        "# Number of players in each group is about the same, gate_30 and gate_40, \n",
        "# It meant the dataset is good for testing.\n",
        "# df.groupby('version').count(), as actual count in each group\n",
        "\n",
        "# Relative frequency of experimental condition.  Multiply by 100 to convert from\n",
        "# proportions to percents as percent_group\n",
        "percent_group = df['version'].value_counts(normalize = True) *100\n",
        "percent_group"
      ],
      "execution_count": null,
      "outputs": [
        {
          "output_type": "execute_result",
          "data": {
            "text/plain": [
              "gate_40    50.437415\n",
              "gate_30    49.562585\n",
              "Name: version, dtype: float64"
            ]
          },
          "metadata": {
            "tags": []
          },
          "execution_count": 7
        }
      ]
    },
    {
      "cell_type": "code",
      "metadata": {
        "colab": {
          "base_uri": "https://localhost:8080/",
          "height": 347
        },
        "id": "B8X0sI9Ye0rO",
        "outputId": "97b41edb-625e-45f1-ed2b-ec246b3980ce"
      },
      "source": [
        "# Number of players in each group is about the same, gate_30 and gate_40, in chart\n",
        "\n",
        "import seaborn as sns\n",
        "\n",
        "chart_version=sns.countplot(x='version' ,data=df)\n",
        "chart_version.set(xlabel=\"version\", ylabel=\"Total players\",title='Total players by version')"
      ],
      "execution_count": null,
      "outputs": [
        {
          "output_type": "execute_result",
          "data": {
            "text/plain": [
              "[Text(0, 0.5, 'Total players'),\n",
              " Text(0.5, 0, 'version'),\n",
              " Text(0.5, 1.0, 'Total players by version')]"
            ]
          },
          "metadata": {
            "tags": []
          },
          "execution_count": 8
        },
        {
          "output_type": "display_data",
          "data": {
            "image/png": "[encoded data removed]",
            "text/plain": [
              "<Figure size 432x288 with 1 Axes>"
            ]
          },
          "metadata": {
            "tags": [],
            "needs_background": "light"
          }
        }
      ]
    },
    {
      "cell_type": "markdown",
      "metadata": {
        "id": "Qa_5Oahstx6H"
      },
      "source": [
        "# **2. Insight of dataset and handling outliers**"
      ]
    },
    {
      "cell_type": "markdown",
      "metadata": {
        "id": "MHmXPQUTuxO2"
      },
      "source": [
        "The following boxplot indicates the distribution of the number of game rounds played per userid, per person, in inspection of outliers."
      ]
    },
    {
      "cell_type": "code",
      "metadata": {
        "colab": {
          "base_uri": "https://localhost:8080/",
          "height": 356
        },
        "id": "kMPsoRhwvRAN",
        "outputId": "a98528b3-6298-417c-cb16-f10c288940dc"
      },
      "source": [
        "# The box plot clearly spot an outlier, a person played about 50,000 rounds of game in a week.\n",
        "# We need to exclude the outlier from analysis.\n",
        "\n",
        "import matplotlib.pyplot as plt\n",
        "\n",
        "#df.boxplot(by='version')\n",
        "\n",
        "df.boxplot(column='sum_gamerounds', by='version')\n",
        "plt.show()"
      ],
      "execution_count": null,
      "outputs": [
        {
          "output_type": "stream",
          "text": [
            "/usr/local/lib/python3.7/dist-packages/numpy/core/_asarray.py:83: VisibleDeprecationWarning: Creating an ndarray from ragged nested sequences (which is a list-or-tuple of lists-or-tuples-or ndarrays with different lengths or shapes) is deprecated. If you meant to do this, you must specify 'dtype=object' when creating the ndarray\n",
            "  return array(a, dtype, copy=False, order=order)\n"
          ],
          "name": "stderr"
        },
        {
          "output_type": "display_data",
          "data": {
            "image/png": "[encoded data removed]",
            "text/plain": [
              "<Figure size 432x288 with 1 Axes>"
            ]
          },
          "metadata": {
            "tags": [],
            "needs_background": "light"
          }
        }
      ]
    },
    {
      "cell_type": "code",
      "metadata": {
        "colab": {
          "base_uri": "https://localhost:8080/",
          "height": 483
        },
        "id": "Fxn1aU1mzZ51",
        "outputId": "e723d76e-388e-4ad2-f86a-10e90e62b8ea"
      },
      "source": [
        "# The outlier is identified as the one, the max, who played 49,854 rounds.\n",
        "# Mean is 51 rounds and 25% of players have less than 5 rounds during the first 7 days\n",
        "\n",
        "df.describe([0.01, 0.05, 0.10, 0.25, 0.75, 0.90, 0.95, 0.99])[[\"sum_gamerounds\"]]"
      ],
      "execution_count": null,
      "outputs": [
        {
          "output_type": "execute_result",
          "data": {
            "text/html": [
              "<div>\n",
              "<style scoped>\n",
              "    .dataframe tbody tr th:only-of-type {\n",
              "        vertical-align: middle;\n",
              "    }\n",
              "\n",
              "    .dataframe tbody tr th {\n",
              "        vertical-align: top;\n",
              "    }\n",
              "\n",
              "    .dataframe thead th {\n",
              "        text-align: right;\n",
              "    }\n",
              "</style>\n",
              "<table border=\"1\" class=\"dataframe\">\n",
              "  <thead>\n",
              "    <tr style=\"text-align: right;\">\n",
              "      <th></th>\n",
              "      <th>sum_gamerounds</th>\n",
              "    </tr>\n",
              "  </thead>\n",
              "  <tbody>\n",
              "    <tr>\n",
              "      <th>count</th>\n",
              "      <td>90189.000000</td>\n",
              "    </tr>\n",
              "    <tr>\n",
              "      <th>mean</th>\n",
              "      <td>51.872457</td>\n",
              "    </tr>\n",
              "    <tr>\n",
              "      <th>std</th>\n",
              "      <td>195.050858</td>\n",
              "    </tr>\n",
              "    <tr>\n",
              "      <th>min</th>\n",
              "      <td>0.000000</td>\n",
              "    </tr>\n",
              "    <tr>\n",
              "      <th>1%</th>\n",
              "      <td>0.000000</td>\n",
              "    </tr>\n",
              "    <tr>\n",
              "      <th>5%</th>\n",
              "      <td>1.000000</td>\n",
              "    </tr>\n",
              "    <tr>\n",
              "      <th>10%</th>\n",
              "      <td>1.000000</td>\n",
              "    </tr>\n",
              "    <tr>\n",
              "      <th>25%</th>\n",
              "      <td>5.000000</td>\n",
              "    </tr>\n",
              "    <tr>\n",
              "      <th>50%</th>\n",
              "      <td>16.000000</td>\n",
              "    </tr>\n",
              "    <tr>\n",
              "      <th>75%</th>\n",
              "      <td>51.000000</td>\n",
              "    </tr>\n",
              "    <tr>\n",
              "      <th>90%</th>\n",
              "      <td>134.000000</td>\n",
              "    </tr>\n",
              "    <tr>\n",
              "      <th>95%</th>\n",
              "      <td>221.000000</td>\n",
              "    </tr>\n",
              "    <tr>\n",
              "      <th>99%</th>\n",
              "      <td>493.000000</td>\n",
              "    </tr>\n",
              "    <tr>\n",
              "      <th>max</th>\n",
              "      <td>49854.000000</td>\n",
              "    </tr>\n",
              "  </tbody>\n",
              "</table>\n",
              "</div>"
            ],
            "text/plain": [
              "       sum_gamerounds\n",
              "count    90189.000000\n",
              "mean        51.872457\n",
              "std        195.050858\n",
              "min          0.000000\n",
              "1%           0.000000\n",
              "5%           1.000000\n",
              "10%          1.000000\n",
              "25%          5.000000\n",
              "50%         16.000000\n",
              "75%         51.000000\n",
              "90%        134.000000\n",
              "95%        221.000000\n",
              "99%        493.000000\n",
              "max      49854.000000"
            ]
          },
          "metadata": {
            "tags": []
          },
          "execution_count": 10
        }
      ]
    },
    {
      "cell_type": "code",
      "metadata": {
        "colab": {
          "base_uri": "https://localhost:8080/"
        },
        "id": "N_5ktU0u0RTE",
        "outputId": "174c4a32-3925-43fa-e595-6cd2027738b9"
      },
      "source": [
        "# Exclude the outlier in the dataset, renamed dataframe as df_no_outlier\n",
        "# .info() shown the assurance, the outlier is excluded from the dataset\n",
        "\n",
        "df_no_outlier = df[df.sum_gamerounds < df.sum_gamerounds.max()]\n",
        "\n",
        "df_no_outlier.info()"
      ],
      "execution_count": null,
      "outputs": [
        {
          "output_type": "stream",
          "text": [
            "<class 'pandas.core.frame.DataFrame'>\n",
            "Int64Index: 90188 entries, 0 to 90188\n",
            "Data columns (total 5 columns):\n",
            " #   Column          Non-Null Count  Dtype \n",
            "---  ------          --------------  ----- \n",
            " 0   userid          90188 non-null  int64 \n",
            " 1   version         90188 non-null  object\n",
            " 2   sum_gamerounds  90188 non-null  int64 \n",
            " 3   retention_1     90188 non-null  bool  \n",
            " 4   retention_7     90188 non-null  bool  \n",
            "dtypes: bool(2), int64(2), object(1)\n",
            "memory usage: 2.9+ MB\n"
          ],
          "name": "stdout"
        }
      ]
    },
    {
      "cell_type": "markdown",
      "metadata": {
        "id": "u4iZMSg1mcN4"
      },
      "source": [
        "# **3. Chi-Square test, A/B test, per Retention 7 and Retention 1**"
      ]
    },
    {
      "cell_type": "code",
      "metadata": {
        "colab": {
          "base_uri": "https://localhost:8080/",
          "height": 714
        },
        "id": "6Ck2tdbiB7nK",
        "outputId": "c3b25f7d-fbee-4a05-8bd6-ce1a791a8db9"
      },
      "source": [
        "\n",
        "# Row Index Name Change, Purpose: associate to the interpretation on Chi-Square test by name change to Control and Experiment Group\n",
        "\n",
        "# Name Change, before\n",
        "print(df_no_outlier.head())\n",
        "\n",
        "# Name Change. Change, gate_30, to Control, shown as the control group\n",
        "# Name Change. Change, gate_40, to Experiment, shown as the Experiment group\n",
        "\n",
        "df_no_outlier['version'] = df_no_outlier['version'].replace('gate_30', 'Control')\n",
        "df_no_outlier['version'] = df_no_outlier['version'].replace('gate_40', 'Experiment')\n",
        "\n",
        "# Retention 7 and Retention 1 columns, value name change from Ture and False, to 1 and 0\n",
        "df_no_outlier['retention_1'] = df_no_outlier['retention_1'].replace(True, 1).astype(int)\n",
        "df_no_outlier['retention_7'] = df_no_outlier['retention_7'].replace(True, 1).astype(int)\n",
        "\n",
        "# Name Change, after\n",
        "df_no_outlier.head()"
      ],
      "execution_count": null,
      "outputs": [
        {
          "output_type": "stream",
          "text": [
            "   userid  version  sum_gamerounds  retention_1  retention_7\n",
            "0     116  gate_30               3        False        False\n",
            "1     337  gate_30              38         True        False\n",
            "2     377  gate_40             165         True        False\n",
            "3     483  gate_40               1        False        False\n",
            "4     488  gate_40             179         True         True\n"
          ],
          "name": "stdout"
        },
        {
          "output_type": "stream",
          "text": [
            "/usr/local/lib/python3.7/dist-packages/ipykernel_launcher.py:10: SettingWithCopyWarning: \n",
            "A value is trying to be set on a copy of a slice from a DataFrame.\n",
            "Try using .loc[row_indexer,col_indexer] = value instead\n",
            "\n",
            "See the caveats in the documentation: https://pandas.pydata.org/pandas-docs/stable/user_guide/indexing.html#returning-a-view-versus-a-copy\n",
            "  # Remove the CWD from sys.path while we load stuff.\n",
            "/usr/local/lib/python3.7/dist-packages/ipykernel_launcher.py:11: SettingWithCopyWarning: \n",
            "A value is trying to be set on a copy of a slice from a DataFrame.\n",
            "Try using .loc[row_indexer,col_indexer] = value instead\n",
            "\n",
            "See the caveats in the documentation: https://pandas.pydata.org/pandas-docs/stable/user_guide/indexing.html#returning-a-view-versus-a-copy\n",
            "  # This is added back by InteractiveShellApp.init_path()\n",
            "/usr/local/lib/python3.7/dist-packages/ipykernel_launcher.py:14: SettingWithCopyWarning: \n",
            "A value is trying to be set on a copy of a slice from a DataFrame.\n",
            "Try using .loc[row_indexer,col_indexer] = value instead\n",
            "\n",
            "See the caveats in the documentation: https://pandas.pydata.org/pandas-docs/stable/user_guide/indexing.html#returning-a-view-versus-a-copy\n",
            "  \n",
            "/usr/local/lib/python3.7/dist-packages/ipykernel_launcher.py:15: SettingWithCopyWarning: \n",
            "A value is trying to be set on a copy of a slice from a DataFrame.\n",
            "Try using .loc[row_indexer,col_indexer] = value instead\n",
            "\n",
            "See the caveats in the documentation: https://pandas.pydata.org/pandas-docs/stable/user_guide/indexing.html#returning-a-view-versus-a-copy\n",
            "  from ipykernel import kernelapp as app\n"
          ],
          "name": "stderr"
        },
        {
          "output_type": "execute_result",
          "data": {
            "text/html": [
              "<div>\n",
              "<style scoped>\n",
              "    .dataframe tbody tr th:only-of-type {\n",
              "        vertical-align: middle;\n",
              "    }\n",
              "\n",
              "    .dataframe tbody tr th {\n",
              "        vertical-align: top;\n",
              "    }\n",
              "\n",
              "    .dataframe thead th {\n",
              "        text-align: right;\n",
              "    }\n",
              "</style>\n",
              "<table border=\"1\" class=\"dataframe\">\n",
              "  <thead>\n",
              "    <tr style=\"text-align: right;\">\n",
              "      <th></th>\n",
              "      <th>userid</th>\n",
              "      <th>version</th>\n",
              "      <th>sum_gamerounds</th>\n",
              "      <th>retention_1</th>\n",
              "      <th>retention_7</th>\n",
              "    </tr>\n",
              "  </thead>\n",
              "  <tbody>\n",
              "    <tr>\n",
              "      <th>0</th>\n",
              "      <td>116</td>\n",
              "      <td>Control</td>\n",
              "      <td>3</td>\n",
              "      <td>0</td>\n",
              "      <td>0</td>\n",
              "    </tr>\n",
              "    <tr>\n",
              "      <th>1</th>\n",
              "      <td>337</td>\n",
              "      <td>Control</td>\n",
              "      <td>38</td>\n",
              "      <td>1</td>\n",
              "      <td>0</td>\n",
              "    </tr>\n",
              "    <tr>\n",
              "      <th>2</th>\n",
              "      <td>377</td>\n",
              "      <td>Experiment</td>\n",
              "      <td>165</td>\n",
              "      <td>1</td>\n",
              "      <td>0</td>\n",
              "    </tr>\n",
              "    <tr>\n",
              "      <th>3</th>\n",
              "      <td>483</td>\n",
              "      <td>Experiment</td>\n",
              "      <td>1</td>\n",
              "      <td>0</td>\n",
              "      <td>0</td>\n",
              "    </tr>\n",
              "    <tr>\n",
              "      <th>4</th>\n",
              "      <td>488</td>\n",
              "      <td>Experiment</td>\n",
              "      <td>179</td>\n",
              "      <td>1</td>\n",
              "      <td>1</td>\n",
              "    </tr>\n",
              "  </tbody>\n",
              "</table>\n",
              "</div>"
            ],
            "text/plain": [
              "   userid     version  sum_gamerounds  retention_1  retention_7\n",
              "0     116     Control               3            0            0\n",
              "1     337     Control              38            1            0\n",
              "2     377  Experiment             165            1            0\n",
              "3     483  Experiment               1            0            0\n",
              "4     488  Experiment             179            1            1"
            ]
          },
          "metadata": {
            "tags": []
          },
          "execution_count": 12
        }
      ]
    },
    {
      "cell_type": "code",
      "metadata": {
        "colab": {
          "base_uri": "https://localhost:8080/"
        },
        "id": "rx4V0CWDOHeu",
        "outputId": "0e74cfc1-f5e2-42b3-8d8f-3ccfb2bc19ec"
      },
      "source": [
        "\n",
        "# Marginal distribution, Retention 1 and Retention 7\n",
        "\n",
        "Marginal_dist_R1 = pd.crosstab(index= df_no_outlier['version'], columns=df_no_outlier['retention_1'], margins= True )\n",
        "Marginal_dist_R7 = pd.crosstab(index= df_no_outlier['version'], columns=df_no_outlier['retention_7'], margins= True )\n",
        "\n",
        "print(Marginal_dist_R1)\n",
        "print(Marginal_dist_R7)"
      ],
      "execution_count": null,
      "outputs": [
        {
          "output_type": "stream",
          "text": [
            "retention_1      0      1    All\n",
            "version                         \n",
            "Control      24665  20034  44699\n",
            "Experiment   25370  20119  45489\n",
            "All          50035  40153  90188\n",
            "retention_7      0      1    All\n",
            "version                         \n",
            "Control      36198   8501  44699\n",
            "Experiment   37210   8279  45489\n",
            "All          73408  16780  90188\n"
          ],
          "name": "stdout"
        }
      ]
    },
    {
      "cell_type": "code",
      "metadata": {
        "colab": {
          "base_uri": "https://localhost:8080/",
          "height": 173
        },
        "id": "v60mqbeaP3KV",
        "outputId": "f547efb6-b083-44fd-c51e-cf1ecf38d730"
      },
      "source": [
        "# Conditional distribution on retention 1\n",
        "# Multiply by 100 to show percentage than proprotions.\n",
        "\n",
        "conditional_dist_R1 = pd.crosstab(index= df_no_outlier['version'], columns=df_no_outlier['retention_1'], margins= True, normalize='index' )*100\n",
        "conditional_dist_R1"
      ],
      "execution_count": null,
      "outputs": [
        {
          "output_type": "execute_result",
          "data": {
            "text/html": [
              "<div>\n",
              "<style scoped>\n",
              "    .dataframe tbody tr th:only-of-type {\n",
              "        vertical-align: middle;\n",
              "    }\n",
              "\n",
              "    .dataframe tbody tr th {\n",
              "        vertical-align: top;\n",
              "    }\n",
              "\n",
              "    .dataframe thead th {\n",
              "        text-align: right;\n",
              "    }\n",
              "</style>\n",
              "<table border=\"1\" class=\"dataframe\">\n",
              "  <thead>\n",
              "    <tr style=\"text-align: right;\">\n",
              "      <th>retention_1</th>\n",
              "      <th>0</th>\n",
              "      <th>1</th>\n",
              "    </tr>\n",
              "    <tr>\n",
              "      <th>version</th>\n",
              "      <th></th>\n",
              "      <th></th>\n",
              "    </tr>\n",
              "  </thead>\n",
              "  <tbody>\n",
              "    <tr>\n",
              "      <th>Control</th>\n",
              "      <td>55.180205</td>\n",
              "      <td>44.819795</td>\n",
              "    </tr>\n",
              "    <tr>\n",
              "      <th>Experiment</th>\n",
              "      <td>55.771725</td>\n",
              "      <td>44.228275</td>\n",
              "    </tr>\n",
              "    <tr>\n",
              "      <th>All</th>\n",
              "      <td>55.478556</td>\n",
              "      <td>44.521444</td>\n",
              "    </tr>\n",
              "  </tbody>\n",
              "</table>\n",
              "</div>"
            ],
            "text/plain": [
              "retention_1          0          1\n",
              "version                          \n",
              "Control      55.180205  44.819795\n",
              "Experiment   55.771725  44.228275\n",
              "All          55.478556  44.521444"
            ]
          },
          "metadata": {
            "tags": []
          },
          "execution_count": 14
        }
      ]
    },
    {
      "cell_type": "code",
      "metadata": {
        "colab": {
          "base_uri": "https://localhost:8080/",
          "height": 173
        },
        "id": "mAX8hpbkXnoB",
        "outputId": "ec2fdbf0-328a-4413-a805-0a53d80477d7"
      },
      "source": [
        "#Conditional distribution on retention 7\n",
        "#Multiply by 100 to show percentage than proprotions.\n",
        "\n",
        "conditional_dist_R7 = pd.crosstab(index= df_no_outlier['version'], columns=df_no_outlier['retention_7'], margins= True, normalize='index' )*100\n",
        "conditional_dist_R7"
      ],
      "execution_count": null,
      "outputs": [
        {
          "output_type": "execute_result",
          "data": {
            "text/html": [
              "<div>\n",
              "<style scoped>\n",
              "    .dataframe tbody tr th:only-of-type {\n",
              "        vertical-align: middle;\n",
              "    }\n",
              "\n",
              "    .dataframe tbody tr th {\n",
              "        vertical-align: top;\n",
              "    }\n",
              "\n",
              "    .dataframe thead th {\n",
              "        text-align: right;\n",
              "    }\n",
              "</style>\n",
              "<table border=\"1\" class=\"dataframe\">\n",
              "  <thead>\n",
              "    <tr style=\"text-align: right;\">\n",
              "      <th>retention_7</th>\n",
              "      <th>0</th>\n",
              "      <th>1</th>\n",
              "    </tr>\n",
              "    <tr>\n",
              "      <th>version</th>\n",
              "      <th></th>\n",
              "      <th></th>\n",
              "    </tr>\n",
              "  </thead>\n",
              "  <tbody>\n",
              "    <tr>\n",
              "      <th>Control</th>\n",
              "      <td>80.981677</td>\n",
              "      <td>19.018323</td>\n",
              "    </tr>\n",
              "    <tr>\n",
              "      <th>Experiment</th>\n",
              "      <td>81.799996</td>\n",
              "      <td>18.200004</td>\n",
              "    </tr>\n",
              "    <tr>\n",
              "      <th>All</th>\n",
              "      <td>81.394421</td>\n",
              "      <td>18.605579</td>\n",
              "    </tr>\n",
              "  </tbody>\n",
              "</table>\n",
              "</div>"
            ],
            "text/plain": [
              "retention_7          0          1\n",
              "version                          \n",
              "Control      80.981677  19.018323\n",
              "Experiment   81.799996  18.200004\n",
              "All          81.394421  18.605579"
            ]
          },
          "metadata": {
            "tags": []
          },
          "execution_count": 15
        }
      ]
    },
    {
      "cell_type": "code",
      "metadata": {
        "colab": {
          "base_uri": "https://localhost:8080/",
          "height": 296
        },
        "id": "SVu2VHJ1rD_x",
        "outputId": "158ad1f9-036e-4261-dcd0-908be40dc97e"
      },
      "source": [
        "# Visualize, per retention_1, the relationship between the control (gate_30) and experiment (gate_40) group by a barplot\n",
        "\n",
        "import matplotlib.pyplot as plt\n",
        "import seaborn as sns \n",
        "\n",
        "#CI = none gets rid of unhelpful error bars.\n",
        "sns.barplot(x= 'version', y = 'retention_1', data= df_no_outlier, ci= None)  "
      ],
      "execution_count": null,
      "outputs": [
        {
          "output_type": "execute_result",
          "data": {
            "text/plain": [
              "<matplotlib.axes._subplots.AxesSubplot at 0x7f4eb7658710>"
            ]
          },
          "metadata": {
            "tags": []
          },
          "execution_count": 26
        },
        {
          "output_type": "display_data",
          "data": {
            "image/png": "[encoded data removed]",
            "text/plain": [
              "<Figure size 432x288 with 1 Axes>"
            ]
          },
          "metadata": {
            "tags": [],
            "needs_background": "light"
          }
        }
      ]
    },
    {
      "cell_type": "code",
      "metadata": {
        "colab": {
          "base_uri": "https://localhost:8080/",
          "height": 296
        },
        "id": "uEJean5XrqJB",
        "outputId": "8b633d78-3d0f-4ad1-e879-2ed954ebf0e7"
      },
      "source": [
        "# Visualize, per retention_7, the relationship between the control (gate_30) and experiment (gate_40) group by a barplot\n",
        "\n",
        "import matplotlib.pyplot as plt\n",
        "import seaborn as sns \n",
        "\n",
        "#CI = none gets rid of unhelpful error bars.\n",
        "sns.barplot(x= 'version', y = 'retention_7', data= df_no_outlier, ci= None)  "
      ],
      "execution_count": null,
      "outputs": [
        {
          "output_type": "execute_result",
          "data": {
            "text/plain": [
              "<matplotlib.axes._subplots.AxesSubplot at 0x7f4eb7a9fc10>"
            ]
          },
          "metadata": {
            "tags": []
          },
          "execution_count": 27
        },
        {
          "output_type": "display_data",
          "data": {
            "image/png": "[encoded data removed]",
            "text/plain": [
              "<Figure size 432x288 with 1 Axes>"
            ]
          },
          "metadata": {
            "tags": [],
            "needs_background": "light"
          }
        }
      ]
    },
    {
      "cell_type": "code",
      "metadata": {
        "colab": {
          "base_uri": "https://localhost:8080/",
          "height": 374
        },
        "id": "Uv4a7lkgQ3Es",
        "outputId": "a5fef931-97d2-49ca-e674-23de03668ed9"
      },
      "source": [
        "# Perform Chi-Square Test by calculating the P value\n",
        "\n",
        "from scipy.stats import chi2_contingency\n",
        "\n",
        "# retention_1, Chi-Square test result values as the following:\n",
        "\n",
        "g, p, dof, expctd =  chi2_contingency(pd.crosstab(index=df[\"version\"], columns=df[\"retention_1\"]))\n",
        "\n",
        "print('retention_1, chi statistic is', g)\n",
        "print('retention_1, p-value is', p)\n",
        "print('retention_1, degree of freedom is', dof)\n",
        "print('retention_1, expected results is', expctd)\n",
        "\n",
        "\n",
        "# retention_7, Chi-Square test result values as the following:\n",
        "g, p, dof, expctd =  chi2_contingency(pd.crosstab(index=df[\"version\"], columns=df[\"retention_7\"]))\n",
        "\n",
        "print('retention_7, chi statistic is', g)\n",
        "print('retention_7, p-value is', p)\n",
        "print('retention_7, degree of freedom is', dof)\n",
        "print('retention_7, expected results is', expctd)\n",
        "\n",
        "df_no_outlier.head()"
      ],
      "execution_count": null,
      "outputs": [
        {
          "output_type": "stream",
          "text": [
            "retention_1, chi statistic is 3.1591007878782262\n",
            "retention_1, p-value is 0.07550476210309086\n",
            "retention_1, degree of freedom is 1\n",
            "retention_1, expected results is [[24799.13514952 19900.86485048]\n",
            " [25236.86485048 20252.13514952]]\n",
            "retention_7, chi statistic is 9.959086799559167\n",
            "retention_7, p-value is 0.0016005742679058301\n",
            "retention_7, degree of freedom is 1\n",
            "retention_7, expected results is [[36382.90257127  8317.09742873]\n",
            " [37025.09742873  8463.90257127]]\n"
          ],
          "name": "stdout"
        },
        {
          "output_type": "execute_result",
          "data": {
            "text/html": [
              "<div>\n",
              "<style scoped>\n",
              "    .dataframe tbody tr th:only-of-type {\n",
              "        vertical-align: middle;\n",
              "    }\n",
              "\n",
              "    .dataframe tbody tr th {\n",
              "        vertical-align: top;\n",
              "    }\n",
              "\n",
              "    .dataframe thead th {\n",
              "        text-align: right;\n",
              "    }\n",
              "</style>\n",
              "<table border=\"1\" class=\"dataframe\">\n",
              "  <thead>\n",
              "    <tr style=\"text-align: right;\">\n",
              "      <th></th>\n",
              "      <th>userid</th>\n",
              "      <th>version</th>\n",
              "      <th>sum_gamerounds</th>\n",
              "      <th>retention_1</th>\n",
              "      <th>retention_7</th>\n",
              "    </tr>\n",
              "  </thead>\n",
              "  <tbody>\n",
              "    <tr>\n",
              "      <th>0</th>\n",
              "      <td>116</td>\n",
              "      <td>Control</td>\n",
              "      <td>3</td>\n",
              "      <td>0</td>\n",
              "      <td>0</td>\n",
              "    </tr>\n",
              "    <tr>\n",
              "      <th>1</th>\n",
              "      <td>337</td>\n",
              "      <td>Control</td>\n",
              "      <td>38</td>\n",
              "      <td>1</td>\n",
              "      <td>0</td>\n",
              "    </tr>\n",
              "    <tr>\n",
              "      <th>2</th>\n",
              "      <td>377</td>\n",
              "      <td>Experiment</td>\n",
              "      <td>165</td>\n",
              "      <td>1</td>\n",
              "      <td>0</td>\n",
              "    </tr>\n",
              "    <tr>\n",
              "      <th>3</th>\n",
              "      <td>483</td>\n",
              "      <td>Experiment</td>\n",
              "      <td>1</td>\n",
              "      <td>0</td>\n",
              "      <td>0</td>\n",
              "    </tr>\n",
              "    <tr>\n",
              "      <th>4</th>\n",
              "      <td>488</td>\n",
              "      <td>Experiment</td>\n",
              "      <td>179</td>\n",
              "      <td>1</td>\n",
              "      <td>1</td>\n",
              "    </tr>\n",
              "  </tbody>\n",
              "</table>\n",
              "</div>"
            ],
            "text/plain": [
              "   userid     version  sum_gamerounds  retention_1  retention_7\n",
              "0     116     Control               3            0            0\n",
              "1     337     Control              38            1            0\n",
              "2     377  Experiment             165            1            0\n",
              "3     483  Experiment               1            0            0\n",
              "4     488  Experiment             179            1            1"
            ]
          },
          "metadata": {
            "tags": []
          },
          "execution_count": 25
        }
      ]
    },
    {
      "cell_type": "markdown",
      "metadata": {
        "id": "dqmXNgpUunsa"
      },
      "source": [
        "\n",
        "By calculation,\n",
        "\n",
        "retention_1, p-value is 0.0755\n",
        "\n",
        "retention_7, p-value is 0.0016\n",
        "\n",
        "Chi-Square Test, conclusion,\n",
        "\n",
        "At 95% confidence level, at p-value 0.05 significance level, we conclude:\n",
        "\n",
        "retention_1, p-value, 0.0755, higher than the 0.05 significance level, it failed to reject the null hypothesis, and there is no statistical significant relationship between the control (gate_30) and experiment (gate_40) group. \n",
        "\n",
        "retention_7, p-value, 0.0016, lower than the 0.05 significance level, it rejects the null hypothesis, and there is statistical significant relationship between the control (gate_30) and experiment (gate_40) group.\n",
        "\n",
        "At the retention_1, most probably it is just one day after installation, and too soon to examine the significance level, but the retention 1 test leads to the conclusion either 1 or 7 days after installation, the retention rate is about the same.\n",
        "\n",
        "At the retention_7, 7 days after installation, either the gate at level 30 or level 40 would not harm the rention rate, proven statistally by Chi-Square test. Therefore, to keep retention rate high, it is not necessary to move the gate from level 30 to level 40. There is no impact on retention rate, either the gate at level 30 or level 40.\n",
        "\n"
      ]
    },
    {
      "cell_type": "code",
      "metadata": {
        "colab": {
          "base_uri": "https://localhost:8080/"
        },
        "id": "WyQf1Oe_2zvb",
        "outputId": "bf580456-e65f-4b92-e71c-90e99f66a390"
      },
      "source": [
        "#gate_40, the experiment group; gate_40, the control group\n",
        "\n",
        "df_no_outlier['version'].value_counts()"
      ],
      "execution_count": null,
      "outputs": [
        {
          "output_type": "execute_result",
          "data": {
            "text/plain": [
              "Experiment    45489\n",
              "Control       44699\n",
              "Name: version, dtype: int64"
            ]
          },
          "metadata": {
            "tags": []
          },
          "execution_count": 17
        }
      ]
    },
    {
      "cell_type": "code",
      "metadata": {
        "colab": {
          "base_uri": "https://localhost:8080/"
        },
        "id": "YzOU3pm-3aLq",
        "outputId": "f172df99-7199-43ab-eeba-302991ec4a6a"
      },
      "source": [
        "#gate_40, the experiment group; gate_40, the control group\n",
        "#proportions to percents without outliers\n",
        "\n",
        "df_no_outlier['version'].value_counts(normalize = True) *100"
      ],
      "execution_count": null,
      "outputs": [
        {
          "output_type": "execute_result",
          "data": {
            "text/plain": [
              "Experiment    50.437974\n",
              "Control       49.562026\n",
              "Name: version, dtype: float64"
            ]
          },
          "metadata": {
            "tags": []
          },
          "execution_count": 18
        }
      ]
    },
    {
      "cell_type": "code",
      "metadata": {
        "id": "6G2QTJ5dHZ_o"
      },
      "source": [
        "#Joint distribution\n",
        "\n",
        "##joint_dist = pd.crosstab(index= ABtest['Group'], columns= ABtest['Click'])\n",
        "#print(joint_dist)"
      ],
      "execution_count": null,
      "outputs": []
    },
    {
      "cell_type": "code",
      "metadata": {
        "colab": {
          "base_uri": "https://localhost:8080/"
        },
        "id": "B3gNh3JqhKZs",
        "outputId": "b3916eb8-a727-412a-c049-1932a0d066a4"
      },
      "source": [
        "df.info()"
      ],
      "execution_count": null,
      "outputs": [
        {
          "output_type": "stream",
          "text": [
            "<class 'pandas.core.frame.DataFrame'>\n",
            "RangeIndex: 90189 entries, 0 to 90188\n",
            "Data columns (total 5 columns):\n",
            " #   Column          Non-Null Count  Dtype \n",
            "---  ------          --------------  ----- \n",
            " 0   userid          90189 non-null  int64 \n",
            " 1   version         90189 non-null  object\n",
            " 2   sum_gamerounds  90189 non-null  int64 \n",
            " 3   retention_1     90189 non-null  bool  \n",
            " 4   retention_7     90189 non-null  bool  \n",
            "dtypes: bool(2), int64(2), object(1)\n",
            "memory usage: 2.2+ MB\n"
          ],
          "name": "stdout"
        }
      ]
    },
    {
      "cell_type": "code",
      "metadata": {
        "colab": {
          "base_uri": "https://localhost:8080/",
          "height": 289
        },
        "id": "7ZLqLM69ZkGA",
        "outputId": "eccf0339-7451-4718-dafd-de2cc62f1d6b"
      },
      "source": [
        "def g30_to_1(x):\n",
        "  return ((x['version'] == 'gate_30') & (x['retention_1'] == True))\n",
        "df['Experiment_gate_30'] = df.apply(g30_to_1, axis=1)\n",
        "df['Experiment_gate_30'] = df['Experiment_gate_30'].replace({True: 1})\n",
        "df['Experiment_gate_30'] = df['Experiment_gate_30'].replace({False: 0})\n",
        "\n",
        "def g30_to_0(y):\n",
        "  return ((y['version'] == 'gate_30') & (y['retention_1'] == True))\n",
        "df['Control_gate_30'] = df.apply(g30_to_0, axis=1)\n",
        "df['Control_gate_30'] = df['Control_gate_30'].replace({False: 0})\n",
        "df['Control_gate_30'] = df['Control_gate_30'].replace({True: 1})\n",
        "\n",
        "##\n",
        "def g40_to_1(a):\n",
        "  return ((a['version'] == 'gate_40') & (a['retention_1'] == True))\n",
        "df['Experiment_gate_40'] = df.apply(g30_to_1, axis=1)\n",
        "df['Experiment_gate_40'] = df['Experiment_gate_40'].replace({True: 1})\n",
        "df['Experiment_gate_40'] = df['Experiment_gate_40'].replace({False: 0})\n",
        "\n",
        "def g40_to_0(y):\n",
        "  return ((y['version'] == 'gate_40') & (y['retention_1'] == True))\n",
        "df['Control_gate_40'] = df.apply(g30_to_0, axis=1)\n",
        "df['Control_gate_40'] = df['Control_gate_40'].replace({False: 0})\n",
        "df['Control_gate_40'] = df['Control_gate_40'].replace({True: 1})\n",
        "\n",
        "\n",
        "from scipy.stats import chi2_contingency\n",
        "g, p, dof, expctd =  chi2_contingency(pd.crosstab(index=df[\"version\"], columns=df[\"retention_1\"]))\n",
        "\n",
        "print('chi statistic', g)\n",
        "print('p-value', p)\n",
        "print('degree of freedom', dof)\n",
        "print('expected results', expctd)\n",
        "\n",
        "from scipy.stats import chi2_contingency\n",
        "g, p, dof, expctd =  chi2_contingency(pd.crosstab(index=df[\"version\"], columns=df[\"retention_7\"]))\n",
        "\n",
        "df.head()"
      ],
      "execution_count": null,
      "outputs": [
        {
          "output_type": "stream",
          "text": [
            "chi statistic 3.1591007878782262\n",
            "p-value 0.07550476210309086\n",
            "degree of freedom 1\n",
            "expected results [[24799.13514952 19900.86485048]\n",
            " [25236.86485048 20252.13514952]]\n"
          ],
          "name": "stdout"
        },
        {
          "output_type": "execute_result",
          "data": {
            "text/html": [
              "<div>\n",
              "<style scoped>\n",
              "    .dataframe tbody tr th:only-of-type {\n",
              "        vertical-align: middle;\n",
              "    }\n",
              "\n",
              "    .dataframe tbody tr th {\n",
              "        vertical-align: top;\n",
              "    }\n",
              "\n",
              "    .dataframe thead th {\n",
              "        text-align: right;\n",
              "    }\n",
              "</style>\n",
              "<table border=\"1\" class=\"dataframe\">\n",
              "  <thead>\n",
              "    <tr style=\"text-align: right;\">\n",
              "      <th></th>\n",
              "      <th>userid</th>\n",
              "      <th>version</th>\n",
              "      <th>sum_gamerounds</th>\n",
              "      <th>retention_1</th>\n",
              "      <th>retention_7</th>\n",
              "      <th>Experiment_gate_30</th>\n",
              "      <th>Control_gate_30</th>\n",
              "      <th>Experiment_gate_40</th>\n",
              "      <th>Control_gate_40</th>\n",
              "    </tr>\n",
              "  </thead>\n",
              "  <tbody>\n",
              "    <tr>\n",
              "      <th>0</th>\n",
              "      <td>116</td>\n",
              "      <td>gate_30</td>\n",
              "      <td>3</td>\n",
              "      <td>False</td>\n",
              "      <td>False</td>\n",
              "      <td>0</td>\n",
              "      <td>0</td>\n",
              "      <td>0</td>\n",
              "      <td>0</td>\n",
              "    </tr>\n",
              "    <tr>\n",
              "      <th>1</th>\n",
              "      <td>337</td>\n",
              "      <td>gate_30</td>\n",
              "      <td>38</td>\n",
              "      <td>True</td>\n",
              "      <td>False</td>\n",
              "      <td>1</td>\n",
              "      <td>1</td>\n",
              "      <td>1</td>\n",
              "      <td>1</td>\n",
              "    </tr>\n",
              "    <tr>\n",
              "      <th>2</th>\n",
              "      <td>377</td>\n",
              "      <td>gate_40</td>\n",
              "      <td>165</td>\n",
              "      <td>True</td>\n",
              "      <td>False</td>\n",
              "      <td>0</td>\n",
              "      <td>0</td>\n",
              "      <td>0</td>\n",
              "      <td>0</td>\n",
              "    </tr>\n",
              "    <tr>\n",
              "      <th>3</th>\n",
              "      <td>483</td>\n",
              "      <td>gate_40</td>\n",
              "      <td>1</td>\n",
              "      <td>False</td>\n",
              "      <td>False</td>\n",
              "      <td>0</td>\n",
              "      <td>0</td>\n",
              "      <td>0</td>\n",
              "      <td>0</td>\n",
              "    </tr>\n",
              "    <tr>\n",
              "      <th>4</th>\n",
              "      <td>488</td>\n",
              "      <td>gate_40</td>\n",
              "      <td>179</td>\n",
              "      <td>True</td>\n",
              "      <td>True</td>\n",
              "      <td>0</td>\n",
              "      <td>0</td>\n",
              "      <td>0</td>\n",
              "      <td>0</td>\n",
              "    </tr>\n",
              "  </tbody>\n",
              "</table>\n",
              "</div>"
            ],
            "text/plain": [
              "   userid  version  ...  Experiment_gate_40  Control_gate_40\n",
              "0     116  gate_30  ...                   0                0\n",
              "1     337  gate_30  ...                   1                1\n",
              "2     377  gate_40  ...                   0                0\n",
              "3     483  gate_40  ...                   0                0\n",
              "4     488  gate_40  ...                   0                0\n",
              "\n",
              "[5 rows x 9 columns]"
            ]
          },
          "metadata": {
            "tags": []
          },
          "execution_count": 21
        }
      ]
    },
    {
      "cell_type": "code",
      "metadata": {
        "colab": {
          "base_uri": "https://localhost:8080/",
          "height": 142
        },
        "id": "KgZlVvC8xOJS",
        "outputId": "940be0b5-96e7-438f-c8d5-66f44775ae0b"
      },
      "source": [
        "pd.crosstab(index=df[\"version\"], columns=df[\"retention_1\"])"
      ],
      "execution_count": null,
      "outputs": [
        {
          "output_type": "execute_result",
          "data": {
            "text/html": [
              "<div>\n",
              "<style scoped>\n",
              "    .dataframe tbody tr th:only-of-type {\n",
              "        vertical-align: middle;\n",
              "    }\n",
              "\n",
              "    .dataframe tbody tr th {\n",
              "        vertical-align: top;\n",
              "    }\n",
              "\n",
              "    .dataframe thead th {\n",
              "        text-align: right;\n",
              "    }\n",
              "</style>\n",
              "<table border=\"1\" class=\"dataframe\">\n",
              "  <thead>\n",
              "    <tr style=\"text-align: right;\">\n",
              "      <th>retention_1</th>\n",
              "      <th>False</th>\n",
              "      <th>True</th>\n",
              "    </tr>\n",
              "    <tr>\n",
              "      <th>version</th>\n",
              "      <th></th>\n",
              "      <th></th>\n",
              "    </tr>\n",
              "  </thead>\n",
              "  <tbody>\n",
              "    <tr>\n",
              "      <th>gate_30</th>\n",
              "      <td>24666</td>\n",
              "      <td>20034</td>\n",
              "    </tr>\n",
              "    <tr>\n",
              "      <th>gate_40</th>\n",
              "      <td>25370</td>\n",
              "      <td>20119</td>\n",
              "    </tr>\n",
              "  </tbody>\n",
              "</table>\n",
              "</div>"
            ],
            "text/plain": [
              "retention_1  False  True \n",
              "version                  \n",
              "gate_30      24666  20034\n",
              "gate_40      25370  20119"
            ]
          },
          "metadata": {
            "tags": []
          },
          "execution_count": 22
        }
      ]
    },
    {
      "cell_type": "code",
      "metadata": {
        "id": "RQbXjzkJvf6E"
      },
      "source": [
        ""
      ],
      "execution_count": null,
      "outputs": []
    },
    {
      "cell_type": "code",
      "metadata": {
        "id": "hbBYAfejtYDe"
      },
      "source": [
        ""
      ],
      "execution_count": null,
      "outputs": []
    },
    {
      "cell_type": "code",
      "metadata": {
        "colab": {
          "base_uri": "https://localhost:8080/",
          "height": 350
        },
        "id": "ZsXogMr0Q2my",
        "outputId": "3529351d-b709-4545-f6bc-899f36bac458"
      },
      "source": [
        "\n",
        "\n",
        "\n",
        "def g30_to_1(x):\n",
        "  return ((x['version'] == 'gate_30') & (x['retention_1'] == True))\n",
        "df['Experiment_gate_30'] = df.apply(g30_to_1, axis=1)\n",
        "df['Experiment_gate_30'] = df['Experiment_gate_30'].replace({True: 1})\n",
        "\n",
        "\n",
        "def g30_to_0(y):\n",
        "  return ((y['version'] == 'gate_30') & (y['retention_1'] == False))\n",
        "df['Control_gate_30'] = df.apply(g30_to_0, axis=1).string.replace('False', 0)\n",
        "\n",
        "###\n",
        "\n",
        "def g40_to_1(a):\n",
        "  return ((a['version'] == 'gate_30') & (a['retention_1'] == True))\n",
        "df['Experiment_gate_40'] = df.apply(g40_to_1, axis=1).string.replace('Ture', 1)\n",
        "\n",
        "def g40_to_0(b):\n",
        "  return ((b['version'] == 'gate_30') & (b['retention_1'] == False))\n",
        "df['Control_gate_40'] = df.apply(g40_to_0, axis=1).string.replace('False', 0)\n",
        "\n",
        "df.info()"
      ],
      "execution_count": null,
      "outputs": [
        {
          "output_type": "error",
          "ename": "AttributeError",
          "evalue": "ignored",
          "traceback": [
            "\u001b[0;31m---------------------------------------------------------------------------\u001b[0m",
            "\u001b[0;31mAttributeError\u001b[0m                            Traceback (most recent call last)",
            "\u001b[0;32m<ipython-input-23-aac59d8ad9e6>\u001b[0m in \u001b[0;36m<module>\u001b[0;34m()\u001b[0m\n\u001b[1;32m     10\u001b[0m \u001b[0;32mdef\u001b[0m \u001b[0mg30_to_0\u001b[0m\u001b[0;34m(\u001b[0m\u001b[0my\u001b[0m\u001b[0;34m)\u001b[0m\u001b[0;34m:\u001b[0m\u001b[0;34m\u001b[0m\u001b[0;34m\u001b[0m\u001b[0m\n\u001b[1;32m     11\u001b[0m   \u001b[0;32mreturn\u001b[0m \u001b[0;34m(\u001b[0m\u001b[0;34m(\u001b[0m\u001b[0my\u001b[0m\u001b[0;34m[\u001b[0m\u001b[0;34m'version'\u001b[0m\u001b[0;34m]\u001b[0m \u001b[0;34m==\u001b[0m \u001b[0;34m'gate_30'\u001b[0m\u001b[0;34m)\u001b[0m \u001b[0;34m&\u001b[0m \u001b[0;34m(\u001b[0m\u001b[0my\u001b[0m\u001b[0;34m[\u001b[0m\u001b[0;34m'retention_1'\u001b[0m\u001b[0;34m]\u001b[0m \u001b[0;34m==\u001b[0m \u001b[0;32mFalse\u001b[0m\u001b[0;34m)\u001b[0m\u001b[0;34m)\u001b[0m\u001b[0;34m\u001b[0m\u001b[0;34m\u001b[0m\u001b[0m\n\u001b[0;32m---> 12\u001b[0;31m \u001b[0mdf\u001b[0m\u001b[0;34m[\u001b[0m\u001b[0;34m'Control_gate_30'\u001b[0m\u001b[0;34m]\u001b[0m \u001b[0;34m=\u001b[0m \u001b[0mdf\u001b[0m\u001b[0;34m.\u001b[0m\u001b[0mapply\u001b[0m\u001b[0;34m(\u001b[0m\u001b[0mg30_to_0\u001b[0m\u001b[0;34m,\u001b[0m \u001b[0maxis\u001b[0m\u001b[0;34m=\u001b[0m\u001b[0;36m1\u001b[0m\u001b[0;34m)\u001b[0m\u001b[0;34m.\u001b[0m\u001b[0mstring\u001b[0m\u001b[0;34m.\u001b[0m\u001b[0mreplace\u001b[0m\u001b[0;34m(\u001b[0m\u001b[0;34m'False'\u001b[0m\u001b[0;34m,\u001b[0m \u001b[0;36m0\u001b[0m\u001b[0;34m)\u001b[0m\u001b[0;34m\u001b[0m\u001b[0;34m\u001b[0m\u001b[0m\n\u001b[0m\u001b[1;32m     13\u001b[0m \u001b[0;34m\u001b[0m\u001b[0m\n\u001b[1;32m     14\u001b[0m \u001b[0;31m###\u001b[0m\u001b[0;34m\u001b[0m\u001b[0;34m\u001b[0m\u001b[0;34m\u001b[0m\u001b[0m\n",
            "\u001b[0;32m/usr/local/lib/python3.7/dist-packages/pandas/core/generic.py\u001b[0m in \u001b[0;36m__getattr__\u001b[0;34m(self, name)\u001b[0m\n\u001b[1;32m   5139\u001b[0m             \u001b[0;32mif\u001b[0m \u001b[0mself\u001b[0m\u001b[0;34m.\u001b[0m\u001b[0m_info_axis\u001b[0m\u001b[0;34m.\u001b[0m\u001b[0m_can_hold_identifiers_and_holds_name\u001b[0m\u001b[0;34m(\u001b[0m\u001b[0mname\u001b[0m\u001b[0;34m)\u001b[0m\u001b[0;34m:\u001b[0m\u001b[0;34m\u001b[0m\u001b[0;34m\u001b[0m\u001b[0m\n\u001b[1;32m   5140\u001b[0m                 \u001b[0;32mreturn\u001b[0m \u001b[0mself\u001b[0m\u001b[0;34m[\u001b[0m\u001b[0mname\u001b[0m\u001b[0;34m]\u001b[0m\u001b[0;34m\u001b[0m\u001b[0;34m\u001b[0m\u001b[0m\n\u001b[0;32m-> 5141\u001b[0;31m             \u001b[0;32mreturn\u001b[0m \u001b[0mobject\u001b[0m\u001b[0;34m.\u001b[0m\u001b[0m__getattribute__\u001b[0m\u001b[0;34m(\u001b[0m\u001b[0mself\u001b[0m\u001b[0;34m,\u001b[0m \u001b[0mname\u001b[0m\u001b[0;34m)\u001b[0m\u001b[0;34m\u001b[0m\u001b[0;34m\u001b[0m\u001b[0m\n\u001b[0m\u001b[1;32m   5142\u001b[0m \u001b[0;34m\u001b[0m\u001b[0m\n\u001b[1;32m   5143\u001b[0m     \u001b[0;32mdef\u001b[0m \u001b[0m__setattr__\u001b[0m\u001b[0;34m(\u001b[0m\u001b[0mself\u001b[0m\u001b[0;34m,\u001b[0m \u001b[0mname\u001b[0m\u001b[0;34m:\u001b[0m \u001b[0mstr\u001b[0m\u001b[0;34m,\u001b[0m \u001b[0mvalue\u001b[0m\u001b[0;34m)\u001b[0m \u001b[0;34m->\u001b[0m \u001b[0;32mNone\u001b[0m\u001b[0;34m:\u001b[0m\u001b[0;34m\u001b[0m\u001b[0;34m\u001b[0m\u001b[0m\n",
            "\u001b[0;31mAttributeError\u001b[0m: 'Series' object has no attribute 'string'"
          ]
        }
      ]
    },
    {
      "cell_type": "code",
      "metadata": {
        "id": "bBJ-poJMN9oW"
      },
      "source": [
        "\n",
        "\n",
        "\n",
        "\n",
        "def test(x):\n",
        "  return ((x['version'] == 'gate_30') & (x['retention_1'] == True))\n",
        "\n",
        "df['Experiment_gate_30'] = df.apply(test, axis=1)\n",
        "\n",
        "df_expG30 = df[df['Experiment_gate_30'] == True]\n",
        "###\n",
        "def test(x):\n",
        "  return ((x['version'] == 'gate_30') & (x['retention_1'] == False))\n",
        "\n",
        "df['Experiment_gate_30'] = df.apply(test, axis=1)\n",
        "\n",
        "df_ctlG30 = df[df['Experiment_gate_30'] == False]\n",
        "\n",
        "join_dist = pd.crosstab(df_expG30['retention_1'], df_ctlG30['retention_1'])\n",
        "\n",
        "join_dist\n",
        "\n",
        "\n",
        "#df[\"verison\"].replace({\"a\": \"x\", \"b\": \"y\"}, inplace=True)\n",
        "\n",
        "#df['Experiment_gate_30'] = (df['version'] == 'gate_30' | df['retention_1'] == \"True\")\n",
        "\n",
        "#df1 = df[(df['version'] == 'gate_30') & df['retention_1'] == True).replace({'gate_30':'Experiment_gate_30')}, inplace=True)\n",
        "\n",
        "#(df['version'].str.contains('gate_30') | df['retention_1'] == True) = 'Experiment_gate_30'\n",
        "\n",
        "#df1 = pd.DataFrame.df[\"retention_1\"].astype(int)\n",
        "# df2 = df.df[\"retention_7\"].astype(int)\n",
        "#df2.head()\n",
        "#df2.tail()\n",
        "#df1.head()\n",
        "#df_no_outlier['retention_7'].astype(int)\n",
        "\n",
        "#df2.head()\n",
        "#df_no_outlier['retention_1'].replace({'a': 'x', 'b': 'y', 'c': 'w', 'd': 'z'})\n"
      ],
      "execution_count": null,
      "outputs": []
    },
    {
      "cell_type": "code",
      "metadata": {
        "id": "ckQAQhn6tWcQ"
      },
      "source": [
        "df_expG30.head()"
      ],
      "execution_count": null,
      "outputs": []
    },
    {
      "cell_type": "code",
      "metadata": {
        "id": "yFEhhOVrv078"
      },
      "source": [
        "df_expG30.info()"
      ],
      "execution_count": null,
      "outputs": []
    },
    {
      "cell_type": "code",
      "metadata": {
        "id": "IrnBTpA22aQ-"
      },
      "source": [
        "#The version column, the gate_30 group will have be 'Control' and gate_40 group will be 'Experiment'\n",
        "df_no_outlier[\"version\"] = np.where(df_no_outlier.version == \"gate_30\", \"Control\", \"Experiment\")"
      ],
      "execution_count": null,
      "outputs": []
    },
    {
      "cell_type": "code",
      "metadata": {
        "id": "2Uk0-y5C2gVl"
      },
      "source": [
        "#Create a column Retention = 1 when user play during the first 7 days after instalation, and 0 in other cases\n",
        "#in control group (gate_30), 17% of users \n",
        "cats_data[\"Retention\"] = np.where((cats_data.retention_1 == True) & (cats_data.retention_7 == True), 1,0)\n",
        "cats_data.groupby([\"version\", \"Retention\"])[\"sum_gamerounds\"].agg([\"count\", \"median\", \"mean\", \"std\", \"max\"])"
      ],
      "execution_count": null,
      "outputs": []
    }
  ]
}